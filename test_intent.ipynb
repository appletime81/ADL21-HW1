{
 "cells": [
  {
   "cell_type": "code",
   "execution_count": 1,
   "id": "f55c6b00",
   "metadata": {},
   "outputs": [],
   "source": [
    "import json\n",
    "import pickle\n",
    "from argparse import ArgumentParser, Namespace\n",
    "from pathlib import Path\n",
    "from typing import Dict\n",
    "\n",
    "import torch\n",
    "from torch.utils.data import DataLoader\n",
    "from dataset import SeqClsDataset\n",
    "from model import SeqClassifier\n",
    "from utils import Vocab"
   ]
  },
  {
   "cell_type": "code",
   "execution_count": 2,
   "id": "5e9c2c53",
   "metadata": {},
   "outputs": [
    {
     "data": {
      "text/plain": [
       "<dataset.SeqClsDataset at 0x7f5ef45e14f0>"
      ]
     },
     "execution_count": 2,
     "metadata": {},
     "output_type": "execute_result"
    }
   ],
   "source": [
    "cache_dir = Path(\"./cache/intent/\")\n",
    "test_file = Path(\"data/intent/test.json\")\n",
    "max_len = 128\n",
    "with open(cache_dir / \"vocab.pkl\", \"rb\") as f:\n",
    "    vocab: Vocab = pickle.load(f)\n",
    "\n",
    "intent_idx_path = cache_dir / \"intent2idx.json\"\n",
    "intent2idx: Dict[str, int] = json.loads(intent_idx_path.read_text())\n",
    "\n",
    "data = json.loads(test_file.read_text())\n",
    "dataset = SeqClsDataset(data, vocab, intent2idx, max_len)\n",
    "\n",
    "dataset"
   ]
  },
  {
   "cell_type": "code",
   "execution_count": 3,
   "id": "c8948b05",
   "metadata": {},
   "outputs": [],
   "source": [
    "batch_size = 128\n",
    "test_data_loader = DataLoader(\n",
    "    dataset,\n",
    "    batch_size=batch_size,\n",
    "    shuffle=True,\n",
    "    collate_fn=dataset.collate_fn,\n",
    ")"
   ]
  },
  {
   "cell_type": "code",
   "execution_count": 4,
   "id": "a2254cf6",
   "metadata": {},
   "outputs": [
    {
     "name": "stdout",
     "output_type": "stream",
     "text": [
      "{'ids': tensor([[1909, 3481, 2562,  ...,    0,    0,    0],\n",
      "        [1526, 1208,    0,  ...,    0,    0,    0],\n",
      "        [1235, 2276, 2259,  ...,    0,    0,    0],\n",
      "        ...,\n",
      "        [1235, 2276, 2562,  ...,    0,    0,    0],\n",
      "        [5601, 6444, 2830,  ...,    0,    0,    0],\n",
      "        [1235, 2276, 3800,  ...,    0,    0,    0]]), 'labels': [None, None, None, None, None, None, None, None, None, None, None, None, None, None, None, None, None, None, None, None, None, None, None, None, None, None, None, None, None, None, None, None, None, None, None, None, None, None, None, None, None, None, None, None, None, None, None, None, None, None, None, None, None, None, None, None, None, None, None, None, None, None, None, None, None, None, None, None, None, None, None, None, None, None, None, None, None, None, None, None, None, None, None, None, None, None, None, None, None, None, None, None, None, None, None, None, None, None, None, None, None, None, None, None, None, None, None, None, None, None, None, None, None, None, None, None, None, None, None, None, None, None, None, None, None, None, None, None], 'lengths': tensor([128, 128, 128, 128, 128, 128, 128, 128, 128, 128, 128, 128, 128, 128,\n",
      "        128, 128, 128, 128, 128, 128, 128, 128, 128, 128, 128, 128, 128, 128,\n",
      "        128, 128, 128, 128, 128, 128, 128, 128, 128, 128, 128, 128, 128, 128,\n",
      "        128, 128, 128, 128, 128, 128, 128, 128, 128, 128, 128, 128, 128, 128,\n",
      "        128, 128, 128, 128, 128, 128, 128, 128, 128, 128, 128, 128, 128, 128,\n",
      "        128, 128, 128, 128, 128, 128, 128, 128, 128, 128, 128, 128, 128, 128,\n",
      "        128, 128, 128, 128, 128, 128, 128, 128, 128, 128, 128, 128, 128, 128,\n",
      "        128, 128, 128, 128, 128, 128, 128, 128, 128, 128, 128, 128, 128, 128,\n",
      "        128, 128, 128, 128, 128, 128, 128, 128, 128, 128, 128, 128, 128, 128,\n",
      "        128, 128]), 'index': ['test-3959', 'test-2405', 'test-1876', 'test-1672', 'test-1928', 'test-854', 'test-485', 'test-479', 'test-2259', 'test-1150', 'test-3736', 'test-1242', 'test-4089', 'test-364', 'test-1197', 'test-1356', 'test-3461', 'test-1594', 'test-466', 'test-3018', 'test-4214', 'test-238', 'test-4442', 'test-4313', 'test-3348', 'test-1099', 'test-3784', 'test-2560', 'test-3972', 'test-3955', 'test-2814', 'test-2308', 'test-4361', 'test-3996', 'test-1400', 'test-3351', 'test-1024', 'test-901', 'test-2367', 'test-3510', 'test-1538', 'test-2554', 'test-1301', 'test-4430', 'test-412', 'test-3885', 'test-1115', 'test-3342', 'test-1453', 'test-3755', 'test-2815', 'test-3564', 'test-3652', 'test-2847', 'test-3841', 'test-1135', 'test-1127', 'test-3917', 'test-4495', 'test-3778', 'test-2356', 'test-210', 'test-2933', 'test-2831', 'test-3774', 'test-4378', 'test-2173', 'test-3576', 'test-4296', 'test-1653', 'test-480', 'test-2439', 'test-689', 'test-3299', 'test-4440', 'test-3051', 'test-803', 'test-2199', 'test-3324', 'test-2171', 'test-481', 'test-2152', 'test-836', 'test-520', 'test-3680', 'test-3503', 'test-720', 'test-1554', 'test-1250', 'test-2425', 'test-1170', 'test-2220', 'test-1864', 'test-3665', 'test-3759', 'test-3633', 'test-3370', 'test-3791', 'test-252', 'test-100', 'test-2893', 'test-823', 'test-3215', 'test-3933', 'test-501', 'test-977', 'test-2339', 'test-743', 'test-2497', 'test-2208', 'test-1388', 'test-1715', 'test-1345', 'test-542', 'test-1067', 'test-1071', 'test-2588', 'test-668', 'test-10', 'test-2884', 'test-2428', 'test-3654', 'test-603', 'test-139', 'test-2058', 'test-688', 'test-4237', 'test-4107']}\n",
      "torch.Size([128, 128])\n"
     ]
    }
   ],
   "source": [
    "for batch in test_data_loader:\n",
    "    print(batch)\n",
    "    print(batch.get(\"ids\").shape)\n",
    "    break"
   ]
  },
  {
   "cell_type": "code",
   "execution_count": 19,
   "id": "9391c00f",
   "metadata": {},
   "outputs": [],
   "source": [
    "hidden_size = 512\n",
    "num_layers = 2\n",
    "dropout = 0.1\n",
    "bidirectional = True\n",
    "num_class = 150\n",
    "device = \"cuda\"\n",
    "embeddings = torch.load(cache_dir / \"embeddings.pt\")\n",
    "\n",
    "\n",
    "lstm_model = SeqClassifier(\n",
    "    embeddings,\n",
    "    int(hidden_size),\n",
    "    int(num_layers),\n",
    "    float(dropout),\n",
    "    int(bidirectional),\n",
    "    num_class,\n",
    ")\n",
    "lstm_model.load_state_dict(torch.load(\"lstm.pt\"))\n",
    "lstm_model.to(device)\n",
    "lstm_model.eval()\n",
    "\n",
    "predict_list = list()\n",
    "\n",
    "for i, batch in enumerate(test_data_loader):\n",
    "    ids = batch[\"ids\"].to(device)\n",
    "    pred = lstm_model(ids).to(device)\n",
    "    \n",
    "    pred_labels = pred.argmax(dim=1).tolist()\n",
    "    for idx, label in zip(batch[\"index\"], pred_labels):\n",
    "        predict_list.append([idx, label])\n",
    "    \n",
    "    # print(pred.argmax(dim=1))\n",
    "    # print(batch[\"index\"])"
   ]
  },
  {
   "cell_type": "code",
   "execution_count": 20,
   "id": "b1e0c901",
   "metadata": {},
   "outputs": [
    {
     "name": "stdout",
     "output_type": "stream",
     "text": [
      "[['test-1237', 30], ['test-4111', 102], ['test-3093', 33], ['test-3623', 102], ['test-2637', 43]]\n"
     ]
    }
   ],
   "source": [
    "print(predict_list[:5])"
   ]
  },
  {
   "cell_type": "code",
   "execution_count": 22,
   "id": "0ac71798",
   "metadata": {},
   "outputs": [
    {
     "data": {
      "text/plain": [
       "[['test-0', 56],\n",
       " ['test-1', 114],\n",
       " ['test-2', 51],\n",
       " ['test-3', 141],\n",
       " ['test-4', 147]]"
      ]
     },
     "execution_count": 22,
     "metadata": {},
     "output_type": "execute_result"
    }
   ],
   "source": [
    "predict_list = sorted(predict_list, key=lambda x : int(x[0].replace(\"test-\", \"\")))\n",
    "predict_list[:5]"
   ]
  },
  {
   "cell_type": "code",
   "execution_count": 28,
   "id": "d1351664",
   "metadata": {},
   "outputs": [],
   "source": [
    "import pandas as pd\n",
    "\n",
    "intent2idx\n",
    "\n",
    "idx2intent = {v: k for k, v in intent2idx.items()}\n",
    "\n",
    "\n",
    "predict_labels = [idx2intent[item[1]] for item in predict_list]\n",
    "predict_idx = [item[0] for item in predict_list]"
   ]
  },
  {
   "cell_type": "code",
   "execution_count": 30,
   "id": "7a05bbd7",
   "metadata": {},
   "outputs": [
    {
     "data": {
      "text/plain": [
       "['bill_balance',\n",
       " 'restaurant_suggestion',\n",
       " 'report_lost_card',\n",
       " 'timezone',\n",
       " 'what_is_your_name']"
      ]
     },
     "metadata": {},
     "output_type": "display_data"
    },
    {
     "data": {
      "text/plain": [
       "['test-0', 'test-1', 'test-2', 'test-3', 'test-4']"
      ]
     },
     "metadata": {},
     "output_type": "display_data"
    }
   ],
   "source": [
    "display(predict_labels[:5])\n",
    "display(predict_idx[:5])"
   ]
  },
  {
   "cell_type": "code",
   "execution_count": 32,
   "id": "d2efb972",
   "metadata": {},
   "outputs": [
    {
     "data": {
      "text/html": [
       "<div>\n",
       "<style scoped>\n",
       "    .dataframe tbody tr th:only-of-type {\n",
       "        vertical-align: middle;\n",
       "    }\n",
       "\n",
       "    .dataframe tbody tr th {\n",
       "        vertical-align: top;\n",
       "    }\n",
       "\n",
       "    .dataframe thead th {\n",
       "        text-align: right;\n",
       "    }\n",
       "</style>\n",
       "<table border=\"1\" class=\"dataframe\">\n",
       "  <thead>\n",
       "    <tr style=\"text-align: right;\">\n",
       "      <th></th>\n",
       "      <th>id</th>\n",
       "      <th>intent</th>\n",
       "    </tr>\n",
       "  </thead>\n",
       "  <tbody>\n",
       "    <tr>\n",
       "      <th>0</th>\n",
       "      <td>test-0</td>\n",
       "      <td>bill_balance</td>\n",
       "    </tr>\n",
       "    <tr>\n",
       "      <th>1</th>\n",
       "      <td>test-1</td>\n",
       "      <td>restaurant_suggestion</td>\n",
       "    </tr>\n",
       "    <tr>\n",
       "      <th>2</th>\n",
       "      <td>test-2</td>\n",
       "      <td>report_lost_card</td>\n",
       "    </tr>\n",
       "    <tr>\n",
       "      <th>3</th>\n",
       "      <td>test-3</td>\n",
       "      <td>timezone</td>\n",
       "    </tr>\n",
       "    <tr>\n",
       "      <th>4</th>\n",
       "      <td>test-4</td>\n",
       "      <td>what_is_your_name</td>\n",
       "    </tr>\n",
       "    <tr>\n",
       "      <th>...</th>\n",
       "      <td>...</td>\n",
       "      <td>...</td>\n",
       "    </tr>\n",
       "    <tr>\n",
       "      <th>4495</th>\n",
       "      <td>test-4495</td>\n",
       "      <td>what_can_i_ask_you</td>\n",
       "    </tr>\n",
       "    <tr>\n",
       "      <th>4496</th>\n",
       "      <td>test-4496</td>\n",
       "      <td>restaurant_reviews</td>\n",
       "    </tr>\n",
       "    <tr>\n",
       "      <th>4497</th>\n",
       "      <td>test-4497</td>\n",
       "      <td>travel_suggestion</td>\n",
       "    </tr>\n",
       "    <tr>\n",
       "      <th>4498</th>\n",
       "      <td>test-4498</td>\n",
       "      <td>pto_request</td>\n",
       "    </tr>\n",
       "    <tr>\n",
       "      <th>4499</th>\n",
       "      <td>test-4499</td>\n",
       "      <td>restaurant_reservation</td>\n",
       "    </tr>\n",
       "  </tbody>\n",
       "</table>\n",
       "<p>4500 rows × 2 columns</p>\n",
       "</div>"
      ],
      "text/plain": [
       "             id                  intent\n",
       "0        test-0            bill_balance\n",
       "1        test-1   restaurant_suggestion\n",
       "2        test-2        report_lost_card\n",
       "3        test-3                timezone\n",
       "4        test-4       what_is_your_name\n",
       "...         ...                     ...\n",
       "4495  test-4495      what_can_i_ask_you\n",
       "4496  test-4496      restaurant_reviews\n",
       "4497  test-4497       travel_suggestion\n",
       "4498  test-4498             pto_request\n",
       "4499  test-4499  restaurant_reservation\n",
       "\n",
       "[4500 rows x 2 columns]"
      ]
     },
     "metadata": {},
     "output_type": "display_data"
    }
   ],
   "source": [
    "results_csv = pd.DataFrame(\n",
    "    {\n",
    "        \"id\": predict_idx,\n",
    "        \"intent\": predict_labels\n",
    "    }\n",
    ")\n",
    "display(results_csv)"
   ]
  },
  {
   "cell_type": "code",
   "execution_count": 34,
   "id": "bf92faee",
   "metadata": {},
   "outputs": [
    {
     "data": {
      "text/plain": [
       "150"
      ]
     },
     "execution_count": 34,
     "metadata": {},
     "output_type": "execute_result"
    }
   ],
   "source": [
    "dataset.num_classes"
   ]
  },
  {
   "cell_type": "code",
   "execution_count": null,
   "id": "9211bbbf",
   "metadata": {},
   "outputs": [],
   "source": []
  }
 ],
 "metadata": {
  "kernelspec": {
   "display_name": "Python 3 (ipykernel)",
   "language": "python",
   "name": "python3"
  },
  "language_info": {
   "codemirror_mode": {
    "name": "ipython",
    "version": 3
   },
   "file_extension": ".py",
   "mimetype": "text/x-python",
   "name": "python",
   "nbconvert_exporter": "python",
   "pygments_lexer": "ipython3",
   "version": "3.9.13"
  }
 },
 "nbformat": 4,
 "nbformat_minor": 5
}
