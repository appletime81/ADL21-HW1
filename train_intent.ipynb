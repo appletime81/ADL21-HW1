{
 "cells": [
  {
   "cell_type": "code",
   "execution_count": 1,
   "id": "664a7588",
   "metadata": {},
   "outputs": [],
   "source": [
    "import json\n",
    "import pickle\n",
    "from argparse import ArgumentParser, Namespace\n",
    "from pathlib import Path\n",
    "from typing import Dict\n",
    "\n",
    "import torch\n",
    "from torch.utils.data import DataLoader\n",
    "from tqdm import trange\n",
    "from model import SeqClassifier\n",
    "from dataset import SeqClsDataset\n",
    "from utils import Vocab\n",
    "\n",
    "TRAIN = \"train\"\n",
    "DEV = \"eval\"\n",
    "SPLITS = [TRAIN, DEV]"
   ]
  },
  {
   "cell_type": "code",
   "execution_count": 2,
   "id": "1d0f7477",
   "metadata": {},
   "outputs": [],
   "source": [
    "cache_dir = Path(\"./cache/intent/\")\n",
    "data_dir = Path(\"./data/intent/\")\n",
    "batch_size = 128\n",
    "max_len = 128\n",
    "with open(cache_dir / \"vocab.pkl\", \"rb\") as f:\n",
    "    vocab: Vocab = pickle.load(f)\n",
    "\n",
    "intent_idx_path = cache_dir / \"intent2idx.json\"\n",
    "intent2idx: Dict[str, int] = json.loads(intent_idx_path.read_text())\n",
    "\n",
    "data_paths = {\n",
    "    split: data_dir / f\"{split}.json\" \n",
    "    for split in SPLITS\n",
    "}\n",
    "data = {\n",
    "    split: json.loads(path.read_text()) \n",
    "    for split, path in data_paths.items()\n",
    "}\n",
    "datasets: Dict[str, SeqClsDataset] = {\n",
    "    split: SeqClsDataset(split_data, vocab, intent2idx, max_len)\n",
    "    for split, split_data in data.items()\n",
    "}\n",
    "# TODO: crecate DataLoader for train / dev datasets\n",
    "train_data_loader = DataLoader(\n",
    "    datasets[\"train\"],\n",
    "    batch_size=batch_size,\n",
    "    shuffle=True,\n",
    "    collate_fn=datasets[\"train\"].collate_fn,\n",
    ")\n",
    "dev_data_loader = DataLoader(\n",
    "    datasets[\"eval\"],\n",
    "    batch_size=batch_size,\n",
    "    shuffle=True,\n",
    "    collate_fn=datasets[\"eval\"].collate_fn,\n",
    ")\n"
   ]
  },
  {
   "cell_type": "code",
   "execution_count": 3,
   "id": "0b57d36a",
   "metadata": {
    "scrolled": true
   },
   "outputs": [
    {
     "name": "stderr",
     "output_type": "stream",
     "text": [
      "Epoch:   2%|███▎                                                                                                                                                                    | 1/50 [00:25<20:39, 25.30s/it]"
     ]
    },
    {
     "name": "stdout",
     "output_type": "stream",
     "text": [
      "0.2686926202248719\n",
      "0.6127232164144516\n"
     ]
    },
    {
     "name": "stderr",
     "output_type": "stream",
     "text": [
      "\r",
      "Epoch:   4%|██████▋                                                                                                                                                                 | 2/50 [00:50<20:24, 25.51s/it]"
     ]
    },
    {
     "name": "stdout",
     "output_type": "stream",
     "text": [
      "0.8064971753096176\n",
      "0.8203590040405592\n"
     ]
    },
    {
     "name": "stderr",
     "output_type": "stream",
     "text": [
      "\r",
      "Epoch:   6%|██████████                                                                                                                                                              | 3/50 [01:16<20:08, 25.71s/it]"
     ]
    },
    {
     "name": "stdout",
     "output_type": "stream",
     "text": [
      "0.9257150423728814\n",
      "0.8769531274835268\n"
     ]
    },
    {
     "name": "stderr",
     "output_type": "stream",
     "text": [
      "\r",
      "Epoch:   8%|█████████████▍                                                                                                                                                          | 4/50 [01:43<19:52, 25.93s/it]"
     ]
    },
    {
     "name": "stdout",
     "output_type": "stream",
     "text": [
      "0.9621954449152542\n",
      "0.8857421899835268\n"
     ]
    },
    {
     "name": "stderr",
     "output_type": "stream",
     "text": [
      "\r",
      "Epoch:  10%|████████████████▊                                                                                                                                                       | 5/50 [02:09<19:37, 26.16s/it]"
     ]
    },
    {
     "name": "stdout",
     "output_type": "stream",
     "text": [
      "0.9796742584745762\n",
      "0.8900204623738924\n"
     ]
    },
    {
     "name": "stderr",
     "output_type": "stream",
     "text": [
      "\r",
      "Epoch:  12%|████████████████████▏                                                                                                                                                   | 6/50 [02:36<19:20, 26.38s/it]"
     ]
    },
    {
     "name": "stdout",
     "output_type": "stream",
     "text": [
      "0.9888771186440678\n",
      "0.8987630233168602\n"
     ]
    },
    {
     "name": "stderr",
     "output_type": "stream",
     "text": [
      "\r",
      "Epoch:  14%|███████████████████████▌                                                                                                                                                | 7/50 [03:03<19:02, 26.57s/it]"
     ]
    },
    {
     "name": "stdout",
     "output_type": "stream",
     "text": [
      "0.9917240466101694\n",
      "0.9085286483168602\n"
     ]
    },
    {
     "name": "stderr",
     "output_type": "stream",
     "text": [
      "\r",
      "Epoch:  16%|██████████████████████████▉                                                                                                                                             | 8/50 [03:30<18:40, 26.68s/it]"
     ]
    },
    {
     "name": "stdout",
     "output_type": "stream",
     "text": [
      "0.996822033898305\n",
      "0.9090401803453764\n"
     ]
    },
    {
     "name": "stderr",
     "output_type": "stream",
     "text": [
      "\r",
      "Epoch:  18%|██████████████████████████████▏                                                                                                                                         | 9/50 [03:57<18:18, 26.80s/it]"
     ]
    },
    {
     "name": "stdout",
     "output_type": "stream",
     "text": [
      "0.994041313559322\n",
      "0.8973679343859354\n"
     ]
    },
    {
     "name": "stderr",
     "output_type": "stream",
     "text": [
      "\r",
      "Epoch:  20%|█████████████████████████████████▍                                                                                                                                     | 10/50 [04:24<17:57, 26.94s/it]"
     ]
    },
    {
     "name": "stdout",
     "output_type": "stream",
     "text": [
      "0.9972854872881356\n",
      "0.913364956776301\n"
     ]
    },
    {
     "name": "stderr",
     "output_type": "stream",
     "text": [
      "\r",
      "Epoch:  22%|████████████████████████████████████▋                                                                                                                                  | 11/50 [04:51<17:34, 27.03s/it]"
     ]
    },
    {
     "name": "stdout",
     "output_type": "stream",
     "text": [
      "0.9977489406779662\n",
      "0.8994605665405592\n"
     ]
    },
    {
     "name": "stderr",
     "output_type": "stream",
     "text": [
      "\r",
      "Epoch:  24%|████████████████████████████████████████                                                                                                                               | 12/50 [05:19<17:11, 27.13s/it]"
     ]
    },
    {
     "name": "stdout",
     "output_type": "stream",
     "text": [
      "0.9940854523141506\n",
      "0.8915550609429678\n"
     ]
    },
    {
     "name": "stderr",
     "output_type": "stream",
     "text": [
      "\r",
      "Epoch:  26%|███████████████████████████████████████████▍                                                                                                                           | 13/50 [05:46<16:45, 27.18s/it]"
     ]
    },
    {
     "name": "stdout",
     "output_type": "stream",
     "text": [
      "0.9932909607887268\n",
      "0.9036923373738924\n"
     ]
    },
    {
     "name": "stderr",
     "output_type": "stream",
     "text": [
      "\r",
      "Epoch:  28%|██████████████████████████████████████████████▊                                                                                                                        | 14/50 [06:13<16:18, 27.19s/it]"
     ]
    },
    {
     "name": "stdout",
     "output_type": "stream",
     "text": [
      "0.9930481991525424\n",
      "0.8964378734429678\n"
     ]
    },
    {
     "name": "stderr",
     "output_type": "stream",
     "text": [
      "\r",
      "Epoch:  30%|██████████████████████████████████████████████████                                                                                                                     | 15/50 [06:41<15:51, 27.20s/it]"
     ]
    },
    {
     "name": "stdout",
     "output_type": "stream",
     "text": [
      "0.996292372881356\n",
      "0.8970889151096344\n"
     ]
    },
    {
     "name": "stderr",
     "output_type": "stream",
     "text": [
      "\r",
      "Epoch:  32%|█████████████████████████████████████████████████████▍                                                                                                                 | 16/50 [07:08<15:24, 27.19s/it]"
     ]
    },
    {
     "name": "stdout",
     "output_type": "stream",
     "text": [
      "0.9954316737288136\n",
      "0.9110863109429678\n"
     ]
    },
    {
     "name": "stderr",
     "output_type": "stream",
     "text": [
      "\r",
      "Epoch:  34%|████████████████████████████████████████████████████████▊                                                                                                              | 17/50 [07:35<14:57, 27.20s/it]"
     ]
    },
    {
     "name": "stdout",
     "output_type": "stream",
     "text": [
      "0.9950344279661016\n",
      "0.9022042428453764\n"
     ]
    },
    {
     "name": "stderr",
     "output_type": "stream",
     "text": [
      "\r",
      "Epoch:  36%|████████████████████████████████████████████████████████████                                                                                                           | 18/50 [08:02<14:31, 27.23s/it]"
     ]
    },
    {
     "name": "stdout",
     "output_type": "stream",
     "text": [
      "0.9974179025423728\n",
      "0.9157366082072258\n"
     ]
    },
    {
     "name": "stderr",
     "output_type": "stream",
     "text": [
      "\r",
      "Epoch:  38%|███████████████████████████████████████████████████████████████▍                                                                                                       | 19/50 [08:29<14:04, 27.23s/it]"
     ]
    },
    {
     "name": "stdout",
     "output_type": "stream",
     "text": [
      "0.9986758474576272\n",
      "0.9125279039144516\n"
     ]
    },
    {
     "name": "stderr",
     "output_type": "stream",
     "text": [
      "\r",
      "Epoch:  40%|██████████████████████████████████████████████████████████████████▊                                                                                                    | 20/50 [08:57<13:36, 27.21s/it]"
     ]
    },
    {
     "name": "stdout",
     "output_type": "stream",
     "text": [
      "0.9989406779661016\n",
      "0.9140625024835268\n"
     ]
    },
    {
     "name": "stderr",
     "output_type": "stream",
     "text": [
      "\r",
      "Epoch:  42%|██████████████████████████████████████████████████████████████████████▏                                                                                                | 21/50 [09:24<13:09, 27.23s/it]"
     ]
    },
    {
     "name": "stdout",
     "output_type": "stream",
     "text": [
      "0.9992055084745762\n",
      "0.9138764888048172\n"
     ]
    },
    {
     "name": "stderr",
     "output_type": "stream",
     "text": [
      "\r",
      "Epoch:  44%|█████████████████████████████████████████████████████████████████████████▍                                                                                             | 22/50 [09:51<12:44, 27.29s/it]"
     ]
    },
    {
     "name": "stdout",
     "output_type": "stream",
     "text": [
      "0.999073093220339\n",
      "0.9098307316501936\n"
     ]
    },
    {
     "name": "stderr",
     "output_type": "stream",
     "text": [
      "\r",
      "Epoch:  46%|████████████████████████████████████████████████████████████████████████████▊                                                                                          | 23/50 [10:19<12:19, 27.39s/it]"
     ]
    },
    {
     "name": "stdout",
     "output_type": "stream",
     "text": [
      "0.999073093220339\n",
      "0.9156436026096344\n"
     ]
    },
    {
     "name": "stderr",
     "output_type": "stream",
     "text": [
      "\r",
      "Epoch:  48%|████████████████████████████████████████████████████████████████████████████████▏                                                                                      | 24/50 [10:47<11:53, 27.45s/it]"
     ]
    },
    {
     "name": "stdout",
     "output_type": "stream",
     "text": [
      "0.9995365466101694\n",
      "0.9141090040405592\n"
     ]
    },
    {
     "name": "stderr",
     "output_type": "stream",
     "text": [
      "\r",
      "Epoch:  50%|███████████████████████████████████████████████████████████████████████████████████▌                                                                                   | 25/50 [11:14<11:26, 27.48s/it]"
     ]
    },
    {
     "name": "stdout",
     "output_type": "stream",
     "text": [
      "0.999271716101695\n",
      "0.9103887677192688\n"
     ]
    },
    {
     "name": "stderr",
     "output_type": "stream",
     "text": [
      "\r",
      "Epoch:  52%|██████████████████████████████████████████████████████████████████████████████████████▊                                                                                | 26/50 [11:42<10:59, 27.46s/it]"
     ]
    },
    {
     "name": "stdout",
     "output_type": "stream",
     "text": [
      "0.999073093220339\n",
      "0.9108072941501936\n"
     ]
    },
    {
     "name": "stderr",
     "output_type": "stream",
     "text": [
      "\r",
      "Epoch:  54%|██████████████████████████████████████████████████████████████████████████████████████████▏                                                                            | 27/50 [12:09<10:31, 27.45s/it]"
     ]
    },
    {
     "name": "stdout",
     "output_type": "stream",
     "text": [
      "0.9997351694915254\n",
      "0.9152250761787096\n"
     ]
    },
    {
     "name": "stderr",
     "output_type": "stream",
     "text": [
      "\r",
      "Epoch:  56%|█████████████████████████████████████████████████████████████████████████████████████████████▌                                                                         | 28/50 [12:36<10:02, 27.36s/it]"
     ]
    },
    {
     "name": "stdout",
     "output_type": "stream",
     "text": [
      "0.9996689618644068\n",
      "0.9131789455811182\n"
     ]
    },
    {
     "name": "stderr",
     "output_type": "stream",
     "text": [
      "\r",
      "Epoch:  58%|████████████████████████████████████████████████████████████████████████████████████████████████▊                                                                      | 29/50 [13:03<09:33, 27.29s/it]"
     ]
    },
    {
     "name": "stdout",
     "output_type": "stream",
     "text": [
      "0.9952330508474576\n",
      "0.8826729928453764\n"
     ]
    },
    {
     "name": "stderr",
     "output_type": "stream",
     "text": [
      "\r",
      "Epoch:  60%|████████████████████████████████████████████████████████████████████████████████████████████████████▏                                                                  | 30/50 [13:30<09:04, 27.23s/it]"
     ]
    },
    {
     "name": "stdout",
     "output_type": "stream",
     "text": [
      "0.9755031779661016\n",
      "0.8838355665405592\n"
     ]
    },
    {
     "name": "stderr",
     "output_type": "stream",
     "text": [
      "\r",
      "Epoch:  62%|███████████████████████████████████████████████████████████████████████████████████████████████████████▌                                                               | 31/50 [13:57<08:36, 27.18s/it]"
     ]
    },
    {
     "name": "stdout",
     "output_type": "stream",
     "text": [
      "0.9862950211864406\n",
      "0.8936011915405592\n"
     ]
    },
    {
     "name": "stderr",
     "output_type": "stream",
     "text": [
      "\r",
      "Epoch:  64%|██████████████████████████████████████████████████████████████████████████████████████████████████████████▉                                                            | 32/50 [14:24<08:08, 27.14s/it]"
     ]
    },
    {
     "name": "stdout",
     "output_type": "stream",
     "text": [
      "0.9950123590938116\n",
      "0.9015532011787096\n"
     ]
    },
    {
     "name": "stderr",
     "output_type": "stream",
     "text": [
      "\r",
      "Epoch:  66%|██████████████████████████████████████████████████████████████████████████████████████████████████████████████▏                                                        | 33/50 [14:51<07:40, 27.09s/it]"
     ]
    },
    {
     "name": "stdout",
     "output_type": "stream",
     "text": [
      "0.9974841101694916\n",
      "0.9136439760526022\n"
     ]
    },
    {
     "name": "stderr",
     "output_type": "stream",
     "text": [
      "\r",
      "Epoch:  68%|█████████████████████████████████████████████████████████████████████████████████████████████████████████████████▌                                                     | 34/50 [15:18<07:13, 27.06s/it]"
     ]
    },
    {
     "name": "stdout",
     "output_type": "stream",
     "text": [
      "0.9994041313559322\n",
      "0.9180617580811182\n"
     ]
    },
    {
     "name": "stderr",
     "output_type": "stream",
     "text": [
      "\r",
      "Epoch:  70%|████████████████████████████████████████████████████████████████████████████████████████████████████████████████████▉                                                  | 35/50 [15:45<06:45, 27.04s/it]"
     ]
    },
    {
     "name": "stdout",
     "output_type": "stream",
     "text": [
      "0.999801377118644\n",
      "0.9205264151096344\n"
     ]
    },
    {
     "name": "stderr",
     "output_type": "stream",
     "text": [
      "\r",
      "Epoch:  72%|████████████████████████████████████████████████████████████████████████████████████████████████████████████████████████▏                                              | 36/50 [16:12<06:17, 26.99s/it]"
     ]
    },
    {
     "name": "stdout",
     "output_type": "stream",
     "text": [
      "0.9997351694915254\n",
      "0.9191313261787096\n"
     ]
    },
    {
     "name": "stderr",
     "output_type": "stream",
     "text": [
      "\r",
      "Epoch:  74%|███████████████████████████████████████████████████████████████████████████████████████████████████████████████████████████▌                                           | 37/50 [16:39<05:50, 26.94s/it]"
     ]
    },
    {
     "name": "stdout",
     "output_type": "stream",
     "text": [
      "0.9999337923728814\n",
      "0.9193638414144516\n"
     ]
    },
    {
     "name": "stderr",
     "output_type": "stream",
     "text": [
      "\r",
      "Epoch:  76%|██████████████████████████████████████████████████████████████████████████████████████████████████████████████████████████████▉                                        | 38/50 [17:06<05:22, 26.92s/it]"
     ]
    },
    {
     "name": "stdout",
     "output_type": "stream",
     "text": [
      "0.9998675847457628\n",
      "0.9181547636787096\n"
     ]
    },
    {
     "name": "stderr",
     "output_type": "stream",
     "text": [
      "\r",
      "Epoch:  78%|██████████████████████████████████████████████████████████████████████████████████████████████████████████████████████████████████▎                                    | 39/50 [17:33<04:55, 26.89s/it]"
     ]
    },
    {
     "name": "stdout",
     "output_type": "stream",
     "text": [
      "0.9998675847457628\n",
      "0.9191313261787096\n"
     ]
    },
    {
     "name": "stderr",
     "output_type": "stream",
     "text": [
      "\r",
      "Epoch:  80%|█████████████████████████████████████████████████████████████████████████████████████████████████████████████████████████████████████▌                                 | 40/50 [18:00<04:28, 26.87s/it]"
     ]
    },
    {
     "name": "stdout",
     "output_type": "stream",
     "text": [
      "0.9999337923728814\n",
      "0.9210379471381506\n"
     ]
    },
    {
     "name": "stderr",
     "output_type": "stream",
     "text": [
      "\r",
      "Epoch:  82%|████████████████████████████████████████████████████████████████████████████████████████████████████████████████████████████████████████▉                              | 41/50 [18:26<04:01, 26.86s/it]"
     ]
    },
    {
     "name": "stdout",
     "output_type": "stream",
     "text": [
      "0.9999337923728814\n",
      "0.9186197941501936\n"
     ]
    },
    {
     "name": "stderr",
     "output_type": "stream",
     "text": [
      "\r",
      "Epoch:  84%|████████████████████████████████████████████████████████████████████████████████████████████████████████████████████████████████████████████▎                          | 42/50 [18:53<03:33, 26.72s/it]"
     ]
    },
    {
     "name": "stdout",
     "output_type": "stream",
     "text": [
      "0.9999337923728814\n",
      "0.917736237247785\n"
     ]
    },
    {
     "name": "stderr",
     "output_type": "stream",
     "text": [
      "\r",
      "Epoch:  86%|███████████████████████████████████████████████████████████████████████████████████████████████████████████████████████████████████████████████▌                       | 43/50 [19:19<03:06, 26.59s/it]"
     ]
    },
    {
     "name": "stdout",
     "output_type": "stream",
     "text": [
      "1.0\n",
      "0.9188988109429678\n"
     ]
    },
    {
     "name": "stderr",
     "output_type": "stream",
     "text": [
      "\r",
      "Epoch:  88%|██████████████████████████████████████████████████████████████████████████████████████████████████████████████████████████████████████████████████▉                    | 44/50 [19:45<02:38, 26.48s/it]"
     ]
    },
    {
     "name": "stdout",
     "output_type": "stream",
     "text": [
      "1.0\n",
      "0.918480284512043\n"
     ]
    },
    {
     "name": "stderr",
     "output_type": "stream",
     "text": [
      "\r",
      "Epoch:  90%|██████████████████████████████████████████████████████████████████████████████████████████████████████████████████████████████████████████████████████▎                | 45/50 [20:12<02:11, 26.39s/it]"
     ]
    },
    {
     "name": "stdout",
     "output_type": "stream",
     "text": [
      "1.0\n",
      "0.9179687524835268\n"
     ]
    },
    {
     "name": "stderr",
     "output_type": "stream",
     "text": [
      "\r",
      "Epoch:  92%|█████████████████████████████████████████████████████████████████████████████████████████████████████████████████████████████████████████████████████████▋             | 46/50 [20:38<01:45, 26.33s/it]"
     ]
    },
    {
     "name": "stdout",
     "output_type": "stream",
     "text": [
      "1.0\n",
      "0.918480284512043\n"
     ]
    },
    {
     "name": "stderr",
     "output_type": "stream",
     "text": [
      "\r",
      "Epoch:  94%|████████████████████████████████████████████████████████████████████████████████████████████████████████████████████████████████████████████████████████████▉          | 47/50 [21:04<01:18, 26.29s/it]"
     ]
    },
    {
     "name": "stdout",
     "output_type": "stream",
     "text": [
      "1.0\n",
      "0.9182942733168602\n"
     ]
    },
    {
     "name": "stderr",
     "output_type": "stream",
     "text": [
      "\r",
      "Epoch:  96%|████████████████████████████████████████████████████████████████████████████████████████████████████████████████████████████████████████████████████████████████▎      | 48/50 [21:30<00:52, 26.27s/it]"
     ]
    },
    {
     "name": "stdout",
     "output_type": "stream",
     "text": [
      "1.0\n",
      "0.9202938998738924\n"
     ]
    },
    {
     "name": "stderr",
     "output_type": "stream",
     "text": [
      "\r",
      "Epoch:  98%|███████████████████████████████████████████████████████████████████████████████████████████████████████████████████████████████████████████████████████████████████▋   | 49/50 [21:56<00:26, 26.25s/it]"
     ]
    },
    {
     "name": "stdout",
     "output_type": "stream",
     "text": [
      "1.0\n",
      "0.9185267885526022\n"
     ]
    },
    {
     "name": "stderr",
     "output_type": "stream",
     "text": [
      "Epoch: 100%|███████████████████████████████████████████████████████████████████████████████████████████████████████████████████████████████████████████████████████████████████████| 50/50 [22:23<00:00, 26.86s/it]"
     ]
    },
    {
     "name": "stdout",
     "output_type": "stream",
     "text": [
      "1.0\n",
      "0.9206194207072258\n"
     ]
    },
    {
     "name": "stderr",
     "output_type": "stream",
     "text": [
      "\n"
     ]
    }
   ],
   "source": [
    "import numpy as np\n",
    "\n",
    "embeddings = torch.load(cache_dir / \"embeddings.pt\")\n",
    "num_layers = 2\n",
    "hidden_size = 512\n",
    "dropout = 0.1\n",
    "bidirectional = 1\n",
    "device = \"cuda\"\n",
    "num_epoch = 50\n",
    "lr = 1e-3\n",
    "# TODO: init model and move model to target device(cpu / gpu)\n",
    "model = SeqClassifier(\n",
    "    embeddings,\n",
    "    int(hidden_size),\n",
    "    int(num_layers),\n",
    "    float(dropout),\n",
    "    int(bidirectional),\n",
    "    150,\n",
    ")\n",
    "model.to(device)\n",
    "\n",
    "# TODO: init optimizer\n",
    "optimizer = torch.optim.Adam(model.parameters(), lr=lr)\n",
    "criterion = torch.nn.CrossEntropyLoss()\n",
    "\n",
    "epoch_pbar = trange(num_epoch, desc=\"Epoch\")\n",
    "train_losses = []\n",
    "train_accs = []\n",
    "valid_losses = []\n",
    "valid_accs = []\n",
    "best_valid_loss = float('inf')\n",
    "for epoch in epoch_pbar:\n",
    "    # TODO: Training loop - iterate over train dataloader and update model weights\n",
    "    model.train()\n",
    "    epoch_train_losses = []\n",
    "    epoch_train_accs = []\n",
    "    for batch in train_data_loader:\n",
    "        ids = batch[\"ids\"].to(device)\n",
    "        labels = batch[\"labels\"].to(device)\n",
    "        pred = model(ids).to(device)\n",
    "        loss = criterion(pred, labels).to(device)\n",
    "        optimizer.zero_grad()\n",
    "        loss.backward()\n",
    "        optimizer.step()\n",
    "        epoch_train_losses.append(loss.item())\n",
    "        epoch_train_accs.append((pred.argmax(dim=1) == labels).float().mean().item())\n",
    "\n",
    "    # TODO: Evaluation loop - calculate accuracy and save model weights\n",
    "    model.eval()\n",
    "    epoch_eval_losses = []\n",
    "    epoch_eval_accs = []\n",
    "    with torch.no_grad():\n",
    "        for batch in dev_data_loader:\n",
    "            ids = batch[\"ids\"].to(device)\n",
    "            labels = batch[\"labels\"].to(device)\n",
    "            pred = model(ids).to(device)\n",
    "            loss = criterion(pred, labels).to(device)\n",
    "            epoch_eval_losses.append(loss.item())\n",
    "            epoch_eval_accs.append((pred.argmax(dim=1) == labels).float().mean().item())\n",
    "            \n",
    "    train_losses.extend(epoch_train_losses)\n",
    "    train_accs.extend(epoch_train_accs)\n",
    "    valid_losses.extend(epoch_eval_losses)\n",
    "    valid_accs.extend(epoch_eval_accs)\n",
    "    \n",
    "    epoch_train_loss = np.mean(epoch_train_losses)\n",
    "    epoch_train_acc = np.mean(epoch_train_accs)\n",
    "    epoch_valid_loss = np.mean(epoch_eval_losses)\n",
    "    epoch_valid_acc = np.mean(epoch_eval_accs)\n",
    "    \n",
    "    print(epoch_train_acc)\n",
    "    print(epoch_valid_acc)\n",
    "    if epoch_valid_loss < best_valid_loss:\n",
    "        best_valid_loss = epoch_valid_loss\n",
    "        torch.save(model.state_dict(), 'lstm.pt')\n",
    "\n",
    "# TODO: Inference on test set"
   ]
  },
  {
   "cell_type": "code",
   "execution_count": 4,
   "id": "7207bed0",
   "metadata": {},
   "outputs": [
    {
     "name": "stdout",
     "output_type": "stream",
     "text": [
      "tensor([118,  39,  21,  42, 144,  10, 100,  39,  41, 140, 122, 129,  97, 146,\n",
      "         72,  35,  71, 115,  81,  58,  84,  74, 102,  83, 117,  16,  47,  89,\n",
      "         79,  93, 149,  57,  19, 113,  75,  42, 145, 121,  31, 120,  95, 126,\n",
      "        112,  20,  88,  50, 136, 114, 106, 127,  81, 145, 108,  52,  21, 100,\n",
      "         76, 111,  73,  40,  20,   9, 103,  34, 133,  82,  14,  64,   7,  17,\n",
      "        101,  15,  52, 139,  99, 114, 102,  25, 111, 141,  67, 122,  14,  20,\n",
      "         48, 121,  81,  18, 113, 101,   5,  47,   6,  87,  94, 133, 120,  60,\n",
      "         37,  26, 110,  31,  47, 120, 115,   1, 112,  63,  59, 110,  45,  92,\n",
      "        117, 139,  95,  40,  44,  95, 116,  24,  32,   4,  16, 138,  17,  50,\n",
      "         12,  32], device='cuda:0')\n",
      "tensor([118,  39,  21,  42, 144,  10, 100,  39,  41, 140, 122, 129,  97, 146,\n",
      "         72,  35,  71, 115,  81,  58,  84,  74, 102,  83, 117,  16,  47,  89,\n",
      "         79,  93, 149,  57,  19, 113,  75,  42, 145, 121,  31, 120,  95, 126,\n",
      "        112,  20,  88,  50, 136, 114, 106, 127,  81, 145, 108,  52,  21, 100,\n",
      "         76, 111,  73,  40,  20,   9, 103,  34, 133,  82,  14,  64,   7,  17,\n",
      "        101,  15,  52, 139,  99, 114, 102,  25, 111, 141,  67, 122,  14,  20,\n",
      "         48, 121,  81,  18, 113, 101,   5,  47,   6,  87,  94, 133, 120,  60,\n",
      "         37,  26, 110,  31,  47, 120, 115,   1, 112,  63,  59, 110,  45,  92,\n",
      "        117, 139,  95,  40,  44,  95, 116,  24,  32,   4,  16, 138,  17,  50,\n",
      "         12,  32], device='cuda:0')\n"
     ]
    }
   ],
   "source": [
    "for batch in train_data_loader:\n",
    "    ids = batch[\"ids\"].to(device)\n",
    "    labels = batch[\"labels\"].to(device)\n",
    "    pred = model(ids).to(device)\n",
    "    print(labels)\n",
    "    print(pred.argmax(dim=1))\n",
    "    break"
   ]
  },
  {
   "cell_type": "code",
   "execution_count": 19,
   "id": "d435b012",
   "metadata": {},
   "outputs": [
    {
     "data": {
      "text/plain": [
       "torch.Size([2, 3])"
      ]
     },
     "execution_count": 19,
     "metadata": {},
     "output_type": "execute_result"
    }
   ],
   "source": [
    "a = torch.tensor([[1, 2, 3], [4, 5, 6]])\n",
    "a.shape"
   ]
  },
  {
   "cell_type": "code",
   "execution_count": 20,
   "id": "b13af2f8",
   "metadata": {},
   "outputs": [
    {
     "data": {
      "text/plain": [
       "tensor([[1, 2, 3],\n",
       "        [4, 5, 6]])"
      ]
     },
     "execution_count": 20,
     "metadata": {},
     "output_type": "execute_result"
    }
   ],
   "source": [
    "a"
   ]
  },
  {
   "cell_type": "code",
   "execution_count": 21,
   "id": "79bed75d",
   "metadata": {},
   "outputs": [
    {
     "data": {
      "text/plain": [
       "tensor([2, 2])"
      ]
     },
     "execution_count": 21,
     "metadata": {},
     "output_type": "execute_result"
    }
   ],
   "source": [
    "a.argmax(dim=1)"
   ]
  },
  {
   "cell_type": "code",
   "execution_count": 4,
   "id": "b2a524e0",
   "metadata": {},
   "outputs": [
    {
     "name": "stdout",
     "output_type": "stream",
     "text": [
      "tensor([ 90,  76,   4,  14,  19,  30, 136,  76,  44,  99,  88,  33, 128,  87,\n",
      "         59,  80, 112,  39,   9,  82,  14, 145,  33,  33,  90,  79,  94,   4,\n",
      "        119, 135,  94,  67,  29,   3,  30,  87, 114,  49,   8,  91,   7,  36,\n",
      "         86, 100,  63, 137, 142, 102,  37,  39,  43,  69,  91, 118,  43,   8,\n",
      "        140, 132,  23,  44,  14,  88,  19,   1, 135,  72, 126,  23, 120,  42,\n",
      "         69,  89, 121,  53,   9,  14,  20,  19, 101,  50,  20, 105,  49,  17,\n",
      "         83, 121, 129,  34, 121,  23,  94,  56,  14, 139,  97,   3,  78,  27,\n",
      "        147, 113, 144, 124,  67,  56,  41,  95, 138, 107,   5, 110,   8, 140,\n",
      "          7,  67,  83,  45,  68,   0, 135,  57, 147,  22, 112,  82,  15,  95,\n",
      "         66, 132], device='cuda:0')\n",
      "tensor([ 90,  76,   4,  14,  19,  30, 136,  76,  44,  99,  88,  33, 128,  87,\n",
      "         59,  80, 112,  39,   9,  82,  14, 145,  33,  33,  90,  79,  94,   4,\n",
      "        119, 135,  94,  67,  29,   3,  30,  87, 114,  49,   8,  91,   7,  36,\n",
      "         86, 100,  63, 137, 142, 102,  37,  39,  43,  69,  91, 118,  43,   8,\n",
      "        140, 132,  23,  44,  14,  88,  19,   1, 135,  72, 126,  23, 120,  42,\n",
      "         69,  89, 121,  53,   9,  14,  20,  19, 101,  50,  20, 105,  49,  17,\n",
      "         83, 121, 129,  34, 121,  23,  94,  56,  14, 139, 125,   3,  78,  27,\n",
      "        147, 113, 144, 124,  67,  56,  41,  95, 138, 107,   5, 110,   8, 140,\n",
      "          7,  67,  83,  45,  68,   0, 135,  57, 147,  22, 112,  82,  15,  95,\n",
      "         66, 132], device='cuda:0')\n"
     ]
    }
   ],
   "source": [
    "embeddings = torch.load(cache_dir / \"embeddings.pt\")\n",
    "num_layers = 2\n",
    "hidden_size = 512\n",
    "dropout = 0.1\n",
    "bidirectional = 1\n",
    "device = \"cuda\"\n",
    "num_epoch = 50\n",
    "lr = 1e-3\n",
    "\n",
    "# load pytorch model\n",
    "lstm_model = SeqClassifier(\n",
    "    embeddings,\n",
    "    int(hidden_size),\n",
    "    int(num_layers),\n",
    "    float(dropout),\n",
    "    int(bidirectional),\n",
    "    150,\n",
    ")\n",
    "lstm_model.load_state_dict(torch.load(\"lstm.pt\"))\n",
    "lstm_model.to(device)\n",
    "lstm_model.eval()\n",
    "for batch in train_data_loader:\n",
    "    ids = batch[\"ids\"].to(device)\n",
    "    labels = batch[\"labels\"].to(device)\n",
    "    pred = lstm_model(ids).to(device)\n",
    "    print(labels)\n",
    "    print(pred.argmax(dim=1))\n",
    "    break"
   ]
  },
  {
   "cell_type": "code",
   "execution_count": 6,
   "id": "bc6bf4f2",
   "metadata": {},
   "outputs": [
    {
     "data": {
      "text/plain": [
       "collections.OrderedDict"
      ]
     },
     "execution_count": 6,
     "metadata": {},
     "output_type": "execute_result"
    }
   ],
   "source": [
    "type(lstm_model)"
   ]
  },
  {
   "cell_type": "code",
   "execution_count": 5,
   "id": "c69272ca",
   "metadata": {},
   "outputs": [
    {
     "data": {
      "text/plain": [
       "{'_metadata': OrderedDict([('', {'version': 1}),\n",
       "              ('embed', {'version': 1}),\n",
       "              ('rnn', {'version': 1}),\n",
       "              ('fc', {'version': 1}),\n",
       "              ('dropout', {'version': 1})])}"
      ]
     },
     "execution_count": 5,
     "metadata": {},
     "output_type": "execute_result"
    }
   ],
   "source": [
    "torch.load(\"lstm.pt\").__dict__"
   ]
  },
  {
   "cell_type": "code",
   "execution_count": null,
   "id": "0ee2e1ea",
   "metadata": {},
   "outputs": [],
   "source": []
  }
 ],
 "metadata": {
  "kernelspec": {
   "display_name": "Python 3 (ipykernel)",
   "language": "python",
   "name": "python3"
  },
  "language_info": {
   "codemirror_mode": {
    "name": "ipython",
    "version": 3
   },
   "file_extension": ".py",
   "mimetype": "text/x-python",
   "name": "python",
   "nbconvert_exporter": "python",
   "pygments_lexer": "ipython3",
   "version": "3.9.13"
  }
 },
 "nbformat": 4,
 "nbformat_minor": 5
}
