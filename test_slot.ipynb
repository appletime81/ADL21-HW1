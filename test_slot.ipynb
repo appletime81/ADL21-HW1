{
 "cells": [
  {
   "cell_type": "code",
   "execution_count": 20,
   "id": "fc1913b3",
   "metadata": {},
   "outputs": [],
   "source": [
    "import json\n",
    "import pickle\n",
    "import numpy as np\n",
    "import torch\n",
    "import pandas as pd\n",
    "from utils import Vocab\n",
    "from typing import Dict\n",
    "from tqdm import trange\n",
    "from pathlib import Path\n",
    "from model import SeqClassifier,SeqTagger\n",
    "from dataset import SeqTaggingClsDataset\n",
    "from torch.utils.data import DataLoader\n",
    "from argparse import ArgumentParser, Namespace\n",
    "from IPython.display import display"
   ]
  },
  {
   "cell_type": "code",
   "execution_count": 2,
   "id": "28634a53",
   "metadata": {},
   "outputs": [],
   "source": [
    "cache_dir = Path(\"./cache/slot/\")\n",
    "data_dir = Path(\"./data/slot/\")\n",
    "ckpt_dir = Path(\"./ckpt/slot/\")\n",
    "max_len = 128\n",
    "batch_size = 512\n",
    "hidden_size = 512\n",
    "num_layers = 2\n",
    "dropout = 0.1\n",
    "bidirectional = True\n",
    "device = \"cuda\"\n",
    "num_epoch = 50\n",
    "lr = 1e-3"
   ]
  },
  {
   "cell_type": "code",
   "execution_count": 3,
   "id": "dd56e875",
   "metadata": {},
   "outputs": [],
   "source": [
    "with open(cache_dir / \"vocab.pkl\", \"rb\") as f:\n",
    "    vocab: Vocab = pickle.load(f)"
   ]
  },
  {
   "cell_type": "code",
   "execution_count": 4,
   "id": "eea4f6d8",
   "metadata": {},
   "outputs": [],
   "source": [
    "tag_idx_path = cache_dir / \"tag2idx.json\"\n",
    "tag2idx: Dict[str, int] = json.loads(tag_idx_path.read_text())"
   ]
  },
  {
   "cell_type": "code",
   "execution_count": 5,
   "id": "faebf60e",
   "metadata": {},
   "outputs": [],
   "source": [
    "TRAIN = \"train\"\n",
    "DEV = \"eval\"\n",
    "SPLITS = [TRAIN, DEV]"
   ]
  },
  {
   "cell_type": "code",
   "execution_count": 6,
   "id": "a0f7eee8",
   "metadata": {},
   "outputs": [
    {
     "name": "stdout",
     "output_type": "stream",
     "text": [
      "{'token': 'i', 'tag': 'O', 'id': 'train-0'}\n",
      "{'token': 'i', 'tag': 'O', 'id': 'eval-0'}\n"
     ]
    },
    {
     "data": {
      "text/plain": [
       "{'train': <dataset.SeqTaggingClsDataset at 0x7fbab617cd90>,\n",
       " 'eval': <dataset.SeqTaggingClsDataset at 0x7fbab60808e0>}"
      ]
     },
     "metadata": {},
     "output_type": "display_data"
    }
   ],
   "source": [
    "# create datasets\n",
    "data_paths = {\n",
    "    split: data_dir / f\"{split}.json\" \n",
    "    for split in SPLITS\n",
    "}\n",
    "data = {\n",
    "    split: json.loads(path.read_text()) \n",
    "    for split, path in data_paths.items()\n",
    "}\n",
    "\n",
    "\n",
    "data_train = [\n",
    "    {\n",
    "        \"token\": token,\n",
    "        \"tag\": tag,\n",
    "        \"id\": item[\"id\"]\n",
    "        \n",
    "    }\n",
    "    for item in data[\"train\"]\n",
    "    for token, tag in zip(item[\"tokens\"], item[\"tags\"])\n",
    "]\n",
    "\n",
    "\n",
    "data_eval = [\n",
    "    {\n",
    "        \"token\": token,\n",
    "        \"tag\": tag,\n",
    "        \"id\": item[\"id\"]\n",
    "        \n",
    "    }\n",
    "    for item in data[\"eval\"]\n",
    "    for token, tag in zip(item[\"tokens\"], item[\"tags\"])\n",
    "]\n",
    "\n",
    "data = {\n",
    "    \"train\": data_train,\n",
    "    \"eval\": data_eval\n",
    "}\n",
    "\n",
    "datasets: Dict[str, SeqTaggingClsDataset] = {\n",
    "    split: SeqTaggingClsDataset(split_data, vocab, tag2idx, max_len)\n",
    "    for split, split_data in data.items()\n",
    "}\n",
    "display(datasets)"
   ]
  },
  {
   "cell_type": "code",
   "execution_count": 7,
   "id": "b74576ab",
   "metadata": {
    "scrolled": true
   },
   "outputs": [],
   "source": [
    "train_data_loader = DataLoader(\n",
    "    datasets[\"train\"],\n",
    "    batch_size=batch_size,\n",
    "    shuffle=True,\n",
    "    collate_fn=datasets[\"train\"].collate_fn\n",
    ")\n",
    "dev_data_loader = DataLoader(\n",
    "    datasets[\"eval\"],\n",
    "    batch_size=batch_size,\n",
    "    shuffle=True,\n",
    "    collate_fn=datasets[\"eval\"].collate_fn,\n",
    ")\n",
    "# for batch in train_data_loader:\n",
    "#     print(batch[\"ids\"])\n",
    "#     print(batch[\"labels\"])\n",
    "#     print(batch[\"index\"])"
   ]
  },
  {
   "cell_type": "code",
   "execution_count": 8,
   "id": "9c8a2d73",
   "metadata": {
    "scrolled": true
   },
   "outputs": [
    {
     "name": "stderr",
     "output_type": "stream",
     "text": [
      "Epoch:   2%|███▎                                                                                                                                                                  | 1/50 [01:27<1:11:05, 87.05s/it]"
     ]
    },
    {
     "name": "stdout",
     "output_type": "stream",
     "text": [
      "0.8390431729230013\n",
      "0.8616312779486179\n"
     ]
    },
    {
     "name": "stderr",
     "output_type": "stream",
     "text": [
      "\r",
      "Epoch:   4%|██████▋                                                                                                                                                               | 2/50 [02:56<1:10:51, 88.57s/it]"
     ]
    },
    {
     "name": "stdout",
     "output_type": "stream",
     "text": [
      "0.8626970410346985\n",
      "0.8703179396688938\n"
     ]
    },
    {
     "name": "stderr",
     "output_type": "stream",
     "text": [
      "\r",
      "Epoch:   6%|█████████▉                                                                                                                                                            | 3/50 [04:27<1:10:18, 89.77s/it]"
     ]
    },
    {
     "name": "stdout",
     "output_type": "stream",
     "text": [
      "0.8705404953523116\n",
      "0.8768559321761131\n"
     ]
    },
    {
     "name": "stderr",
     "output_type": "stream",
     "text": [
      "\r",
      "Epoch:   8%|█████████████▎                                                                                                                                                        | 4/50 [05:59<1:09:27, 90.60s/it]"
     ]
    },
    {
     "name": "stdout",
     "output_type": "stream",
     "text": [
      "0.8738062836907127\n",
      "0.8797497525811195\n"
     ]
    },
    {
     "name": "stderr",
     "output_type": "stream",
     "text": [
      "\r",
      "Epoch:  10%|████████████████▌                                                                                                                                                     | 5/50 [07:32<1:08:33, 91.41s/it]"
     ]
    },
    {
     "name": "stdout",
     "output_type": "stream",
     "text": [
      "0.8773384077982469\n",
      "0.8832897916436195\n"
     ]
    },
    {
     "name": "stderr",
     "output_type": "stream",
     "text": [
      "\r",
      "Epoch:  12%|███████████████████▉                                                                                                                                                  | 6/50 [09:05<1:07:23, 91.89s/it]"
     ]
    },
    {
     "name": "stdout",
     "output_type": "stream",
     "text": [
      "0.8790951203216206\n",
      "0.8803080357611179\n"
     ]
    },
    {
     "name": "stderr",
     "output_type": "stream",
     "text": [
      "\r",
      "Epoch:  14%|███████████████████████▏                                                                                                                                              | 7/50 [10:38<1:06:10, 92.34s/it]"
     ]
    },
    {
     "name": "stdout",
     "output_type": "stream",
     "text": [
      "0.8815238773822784\n",
      "0.8799418248236179\n"
     ]
    },
    {
     "name": "stderr",
     "output_type": "stream",
     "text": [
      "\r",
      "Epoch:  16%|██████████████████████████▌                                                                                                                                           | 8/50 [12:11<1:04:48, 92.58s/it]"
     ]
    },
    {
     "name": "stdout",
     "output_type": "stream",
     "text": [
      "0.8831077472730117\n",
      "0.8829756490886211\n"
     ]
    },
    {
     "name": "stderr",
     "output_type": "stream",
     "text": [
      "\r",
      "Epoch:  18%|█████████████████████████████▉                                                                                                                                        | 9/50 [13:44<1:03:18, 92.63s/it]"
     ]
    },
    {
     "name": "stdout",
     "output_type": "stream",
     "text": [
      "0.8859486563639207\n",
      "0.8829594478011131\n"
     ]
    },
    {
     "name": "stderr",
     "output_type": "stream",
     "text": [
      "\r",
      "Epoch:  20%|█████████████████████████████████                                                                                                                                    | 10/50 [15:17<1:01:45, 92.65s/it]"
     ]
    },
    {
     "name": "stdout",
     "output_type": "stream",
     "text": [
      "0.8858799901875583\n",
      "0.883445993065834\n"
     ]
    },
    {
     "name": "stderr",
     "output_type": "stream",
     "text": [
      "\r",
      "Epoch:  22%|████████████████████████████████████▎                                                                                                                                | 11/50 [16:49<1:00:12, 92.62s/it]"
     ]
    },
    {
     "name": "stdout",
     "output_type": "stream",
     "text": [
      "0.8871821262619712\n",
      "0.8830618485808372\n"
     ]
    },
    {
     "name": "stderr",
     "output_type": "stream",
     "text": [
      "\r",
      "Epoch:  24%|████████████████████████████████████████                                                                                                                               | 12/50 [18:21<58:26, 92.28s/it]"
     ]
    },
    {
     "name": "stdout",
     "output_type": "stream",
     "text": [
      "0.8880284276875583\n",
      "0.8841604813933372\n"
     ]
    },
    {
     "name": "stderr",
     "output_type": "stream",
     "text": [
      "\r",
      "Epoch:  26%|███████████████████████████████████████████▍                                                                                                                           | 13/50 [19:51<56:34, 91.75s/it]"
     ]
    },
    {
     "name": "stdout",
     "output_type": "stream",
     "text": [
      "0.8888013498349623\n",
      "0.8818787522614002\n"
     ]
    },
    {
     "name": "stderr",
     "output_type": "stream",
     "text": [
      "\r",
      "Epoch:  28%|██████████████████████████████████████████████▊                                                                                                                        | 14/50 [21:22<54:53, 91.47s/it]"
     ]
    },
    {
     "name": "stdout",
     "output_type": "stream",
     "text": [
      "0.8894394544037906\n",
      "0.8846684321761131\n"
     ]
    },
    {
     "name": "stderr",
     "output_type": "stream",
     "text": [
      "\r",
      "Epoch:  30%|██████████████████████████████████████████████████                                                                                                                     | 15/50 [22:53<53:14, 91.27s/it]"
     ]
    },
    {
     "name": "stdout",
     "output_type": "stream",
     "text": [
      "0.8895271333781156\n",
      "0.8849287740886211\n"
     ]
    },
    {
     "name": "stderr",
     "output_type": "stream",
     "text": [
      "\r",
      "Epoch:  32%|█████████████████████████████████████████████████████▍                                                                                                                 | 16/50 [24:24<51:38, 91.14s/it]"
     ]
    },
    {
     "name": "stdout",
     "output_type": "stream",
     "text": [
      "0.8898585200309753\n",
      "0.8826991096138954\n"
     ]
    },
    {
     "name": "stderr",
     "output_type": "stream",
     "text": [
      "\r",
      "Epoch:  34%|████████████████████████████████████████████████████████▊                                                                                                              | 17/50 [25:55<50:03, 91.01s/it]"
     ]
    },
    {
     "name": "stdout",
     "output_type": "stream",
     "text": [
      "0.8899601833386854\n",
      "0.882995318621397\n"
     ]
    },
    {
     "name": "stderr",
     "output_type": "stream",
     "text": [
      "\r",
      "Epoch:  36%|████████████████████████████████████████████████████████████                                                                                                           | 18/50 [27:24<48:21, 90.66s/it]"
     ]
    },
    {
     "name": "stdout",
     "output_type": "stream",
     "text": [
      "0.8904999245296825\n",
      "0.8843022212386131\n"
     ]
    },
    {
     "name": "stderr",
     "output_type": "stream",
     "text": [
      "\r",
      "Epoch:  38%|███████████████████████████████████████████████████████████████▍                                                                                                       | 19/50 [28:55<46:46, 90.54s/it]"
     ]
    },
    {
     "name": "stdout",
     "output_type": "stream",
     "text": [
      "0.8903638498349623\n",
      "0.8878387920558453\n"
     ]
    },
    {
     "name": "stderr",
     "output_type": "stream",
     "text": [
      "\r",
      "Epoch:  40%|██████████████████████████████████████████████████████████████████▊                                                                                                    | 20/50 [30:25<45:16, 90.54s/it]"
     ]
    },
    {
     "name": "stdout",
     "output_type": "stream",
     "text": [
      "0.8912233509800651\n",
      "0.8845087587833405\n"
     ]
    },
    {
     "name": "stderr",
     "output_type": "stream",
     "text": [
      "\r",
      "Epoch:  42%|██████████████████████████████████████████████████████████████████████▏                                                                                                | 21/50 [31:56<43:45, 90.54s/it]"
     ]
    },
    {
     "name": "stdout",
     "output_type": "stream",
     "text": [
      "0.8917310373349623\n",
      "0.8830097801983356\n"
     ]
    },
    {
     "name": "stderr",
     "output_type": "stream",
     "text": [
      "\r",
      "Epoch:  44%|█████████████████████████████████████████████████████████████████████████▍                                                                                             | 22/50 [33:27<42:18, 90.66s/it]"
     ]
    },
    {
     "name": "stdout",
     "output_type": "stream",
     "text": [
      "0.8918649120764299\n",
      "0.8828194439411163\n"
     ]
    },
    {
     "name": "stderr",
     "output_type": "stream",
     "text": [
      "\r",
      "Epoch:  46%|████████████████████████████████████████████████████████████████████████████▊                                                                                          | 23/50 [34:58<40:50, 90.75s/it]"
     ]
    },
    {
     "name": "stdout",
     "output_type": "stream",
     "text": [
      "0.8910693634640087\n",
      "0.887108102440834\n"
     ]
    },
    {
     "name": "stderr",
     "output_type": "stream",
     "text": [
      "\r",
      "Epoch:  48%|████████████████████████████████████████████████████████████████████████████████▏                                                                                      | 24/50 [36:29<39:20, 90.80s/it]"
     ]
    },
    {
     "name": "stdout",
     "output_type": "stream",
     "text": [
      "0.8920031867244027\n",
      "0.8852591142058372\n"
     ]
    },
    {
     "name": "stderr",
     "output_type": "stream",
     "text": [
      "\r",
      "Epoch:  50%|███████████████████████████████████████████████████████████████████████████████████▌                                                                                   | 25/50 [37:59<37:48, 90.73s/it]"
     ]
    },
    {
     "name": "stdout",
     "output_type": "stream",
     "text": [
      "0.8909084623510187\n",
      "0.8814066685736179\n"
     ]
    },
    {
     "name": "stderr",
     "output_type": "stream",
     "text": [
      "\r",
      "Epoch:  52%|██████████████████████████████████████████████████████████████████████████████████████▊                                                                                | 26/50 [39:29<36:12, 90.52s/it]"
     ]
    },
    {
     "name": "stdout",
     "output_type": "stream",
     "text": [
      "0.8912434632127936\n",
      "0.8819487541913986\n"
     ]
    },
    {
     "name": "stderr",
     "output_type": "stream",
     "text": [
      "\r",
      "Epoch:  54%|██████████████████████████████████████████████████████████████████████████████████████████▏                                                                            | 27/50 [40:59<34:37, 90.34s/it]"
     ]
    },
    {
     "name": "stdout",
     "output_type": "stream",
     "text": [
      "0.8921749293804169\n",
      "0.8842142857611179\n"
     ]
    },
    {
     "name": "stderr",
     "output_type": "stream",
     "text": [
      "\r",
      "Epoch:  56%|█████████████████████████████████████████████████████████████████████████████████████████████▌                                                                         | 28/50 [42:29<33:05, 90.26s/it]"
     ]
    },
    {
     "name": "stdout",
     "output_type": "stream",
     "text": [
      "0.8919832310893319\n",
      "0.8824873678386211\n"
     ]
    },
    {
     "name": "stderr",
     "output_type": "stream",
     "text": [
      "\r",
      "Epoch:  58%|████████████████████████████████████████████████████████████████████████████████████████████████▊                                                                      | 29/50 [43:59<31:35, 90.25s/it]"
     ]
    },
    {
     "name": "stdout",
     "output_type": "stream",
     "text": [
      "0.8915594518184662\n",
      "0.8840742819011211\n"
     ]
    },
    {
     "name": "stderr",
     "output_type": "stream",
     "text": [
      "\r",
      "Epoch:  60%|████████████████████████████████████████████████████████████████████████████████████████████████████▏                                                                  | 30/50 [45:30<30:07, 90.37s/it]"
     ]
    },
    {
     "name": "stdout",
     "output_type": "stream",
     "text": [
      "0.8919642182913694\n",
      "0.8837780728936195\n"
     ]
    },
    {
     "name": "stderr",
     "output_type": "stream",
     "text": [
      "\r",
      "Epoch:  62%|███████████████████████████████████████████████████████████████████████████████████████████████████████▌                                                               | 31/50 [47:01<28:40, 90.56s/it]"
     ]
    },
    {
     "name": "stdout",
     "output_type": "stream",
     "text": [
      "0.8921832572330128\n",
      "0.8854673877358437\n"
     ]
    },
    {
     "name": "stderr",
     "output_type": "stream",
     "text": [
      "\r",
      "Epoch:  64%|██████████████████████████████████████████████████████████████████████████████████████████████████████████▉                                                            | 32/50 [48:32<27:13, 90.73s/it]"
     ]
    },
    {
     "name": "stdout",
     "output_type": "stream",
     "text": [
      "0.8916257603601976\n",
      "0.8838301412761211\n"
     ]
    },
    {
     "name": "stderr",
     "output_type": "stream",
     "text": [
      "\r",
      "Epoch:  66%|██████████████████████████████████████████████████████████████████████████████████████████████████████████████▏                                                        | 33/50 [50:03<25:44, 90.84s/it]"
     ]
    },
    {
     "name": "stdout",
     "output_type": "stream",
     "text": [
      "0.8923135183074258\n",
      "0.8857294619083405\n"
     ]
    },
    {
     "name": "stderr",
     "output_type": "stream",
     "text": [
      "\r",
      "Epoch:  68%|█████████████████████████████████████████████████████████████████████████████████████████████████████████████████▌                                                     | 34/50 [51:34<24:14, 90.89s/it]"
     ]
    },
    {
     "name": "stdout",
     "output_type": "stream",
     "text": [
      "0.8916634716770866\n",
      "0.8827656395733356\n"
     ]
    },
    {
     "name": "stderr",
     "output_type": "stream",
     "text": [
      "\r",
      "Epoch:  70%|████████████████████████████████████████████████████████████████████████████████████████████████████████████████████▉                                                  | 35/50 [53:05<22:44, 90.94s/it]"
     ]
    },
    {
     "name": "stdout",
     "output_type": "stream",
     "text": [
      "0.8915534805167805\n",
      "0.8869322314858437\n"
     ]
    },
    {
     "name": "stderr",
     "output_type": "stream",
     "text": [
      "\r",
      "Epoch:  72%|████████████████████████████████████████████████████████████████████████████████████████████████████████████████████████▏                                              | 36/50 [54:38<21:22, 91.61s/it]"
     ]
    },
    {
     "name": "stdout",
     "output_type": "stream",
     "text": [
      "0.8922437526962974\n",
      "0.8842142857611179\n"
     ]
    },
    {
     "name": "stderr",
     "output_type": "stream",
     "text": [
      "\r",
      "Epoch:  74%|███████████████████████████████████████████████████████████████████████████████████████████████████████████████████████████▌                                           | 37/50 [56:11<19:56, 92.03s/it]"
     ]
    },
    {
     "name": "stdout",
     "output_type": "stream",
     "text": [
      "0.8917157958854328\n",
      "0.885765329003334\n"
     ]
    },
    {
     "name": "stderr",
     "output_type": "stream",
     "text": [
      "\r",
      "Epoch:  76%|██████████████████████████████████████████████████████████████████████████████████████████████████████████████████████████████▉                                        | 38/50 [57:45<18:28, 92.34s/it]"
     ]
    },
    {
     "name": "stdout",
     "output_type": "stream",
     "text": [
      "0.8920826944437894\n",
      "0.8848229013383389\n"
     ]
    },
    {
     "name": "stderr",
     "output_type": "stream",
     "text": [
      "\r",
      "Epoch:  78%|██████████████████████████████████████████████████████████████████████████████████████████████████████████████████████████████████▎                                    | 39/50 [59:18<16:59, 92.65s/it]"
     ]
    },
    {
     "name": "stdout",
     "output_type": "stream",
     "text": [
      "0.8873879665678198\n",
      "0.8823311626911163\n"
     ]
    },
    {
     "name": "stderr",
     "output_type": "stream",
     "text": [
      "\r",
      "Epoch:  80%|████████████████████████████████████████████████████████████████████████████████████████████████████████████████████████████████████                                 | 40/50 [1:00:51<15:29, 92.93s/it]"
     ]
    },
    {
     "name": "stdout",
     "output_type": "stream",
     "text": [
      "0.8897958251562985\n",
      "0.8859215341508389\n"
     ]
    },
    {
     "name": "stderr",
     "output_type": "stream",
     "text": [
      "\r",
      "Epoch:  82%|███████████████████████████████████████████████████████████████████████████████████████████████████████████████████████████████████████▎                             | 41/50 [1:02:25<13:57, 93.09s/it]"
     ]
    },
    {
     "name": "stdout",
     "output_type": "stream",
     "text": [
      "0.8908682373437015\n",
      "0.8841442838311195\n"
     ]
    },
    {
     "name": "stderr",
     "output_type": "stream",
     "text": [
      "\r",
      "Epoch:  84%|██████████████████████████████████████████████████████████████████████████████████████████████████████████████████████████████████████████▌                          | 42/50 [1:03:58<12:25, 93.20s/it]"
     ]
    },
    {
     "name": "stdout",
     "output_type": "stream",
     "text": [
      "0.8926507191224532\n",
      "0.8846649639308453\n"
     ]
    },
    {
     "name": "stderr",
     "output_type": "stream",
     "text": [
      "\r",
      "Epoch:  86%|█████████████████████████████████████████████████████████████████████████████████████████████████████████████████████████████████████████████▉                       | 43/50 [1:05:32<10:52, 93.24s/it]"
     ]
    },
    {
     "name": "stdout",
     "output_type": "stream",
     "text": [
      "0.8922200257127936\n",
      "0.8823832310736179\n"
     ]
    },
    {
     "name": "stderr",
     "output_type": "stream",
     "text": [
      "\r",
      "Epoch:  88%|█████████████████████████████████████████████████████████████████████████████████████████████████████████████████████████████████████████████████▏                   | 44/50 [1:07:05<09:19, 93.29s/it]"
     ]
    },
    {
     "name": "stdout",
     "output_type": "stream",
     "text": [
      "0.8918152592398904\n",
      "0.881652545183897\n"
     ]
    },
    {
     "name": "stderr",
     "output_type": "stream",
     "text": [
      "\r",
      "Epoch:  90%|████████████████████████████████████████████████████████████████████████████████████████████████████████████████████████████████████████████████████▌                | 45/50 [1:08:39<07:46, 93.34s/it]"
     ]
    },
    {
     "name": "stdout",
     "output_type": "stream",
     "text": [
      "0.8920294273983348\n",
      "0.884178414940834\n"
     ]
    },
    {
     "name": "stderr",
     "output_type": "stream",
     "text": [
      "\r",
      "Epoch:  92%|███████████████████████████████████████████████████████████████████████████████████████████████████████████████████████████████████████████████████████▊             | 46/50 [1:10:12<06:13, 93.32s/it]"
     ]
    },
    {
     "name": "stdout",
     "output_type": "stream",
     "text": [
      "0.8924519495530562\n",
      "0.8840042799711227\n"
     ]
    },
    {
     "name": "stderr",
     "output_type": "stream",
     "text": [
      "\r",
      "Epoch:  94%|███████████████████████████████████████████████████████████████████████████████████████████████████████████████████████████████████████████████████████████          | 47/50 [1:11:46<04:40, 93.56s/it]"
     ]
    },
    {
     "name": "stdout",
     "output_type": "stream",
     "text": [
      "0.8923088041218844\n",
      "0.8842484205961227\n"
     ]
    },
    {
     "name": "stderr",
     "output_type": "stream",
     "text": [
      "\r",
      "Epoch:  96%|██████████████████████████████████████████████████████████████████████████████████████████████████████████████████████████████████████████████████████████████▍      | 48/50 [1:13:20<03:07, 93.65s/it]"
     ]
    },
    {
     "name": "stdout",
     "output_type": "stream",
     "text": [
      "0.8922754927115006\n",
      "0.883445993065834\n"
     ]
    },
    {
     "name": "stderr",
     "output_type": "stream",
     "text": [
      "\r",
      "Epoch:  98%|█████████████████████████████████████████████████████████████████████████████████████████████████████████████████████████████████████████████████████████████████▋   | 49/50 [1:14:53<01:33, 93.62s/it]"
     ]
    },
    {
     "name": "stdout",
     "output_type": "stream",
     "text": [
      "0.891784461519935\n",
      "0.883690133690834\n"
     ]
    },
    {
     "name": "stderr",
     "output_type": "stream",
     "text": [
      "Epoch: 100%|█████████████████████████████████████████████████████████████████████████████████████████████████████████████████████████████████████████████████████████████████████| 50/50 [1:16:26<00:00, 91.73s/it]"
     ]
    },
    {
     "name": "stdout",
     "output_type": "stream",
     "text": [
      "0.8931953310966492\n",
      "0.8829594478011131\n"
     ]
    },
    {
     "name": "stderr",
     "output_type": "stream",
     "text": [
      "\n"
     ]
    }
   ],
   "source": [
    "embeddings = torch.load(cache_dir / \"embeddings.pt\")\n",
    "# TODO: init model and move model to target device(cpu / gpu)\n",
    "model = SeqTagger(\n",
    "    embeddings,\n",
    "    hidden_size,\n",
    "    num_layers,\n",
    "    dropout,\n",
    "    bidirectional,\n",
    "    len(tag2idx),\n",
    ")\n",
    "model.to(device)\n",
    "\n",
    "# TODO: init optimizer\n",
    "optimizer = torch.optim.Adam(model.parameters(), lr=lr)\n",
    "criterion = torch.nn.CrossEntropyLoss()\n",
    "\n",
    "train_losses = []\n",
    "train_accs = []\n",
    "valid_losses = []\n",
    "valid_accs = []\n",
    "best_valid_loss = float('inf')\n",
    "\n",
    "epoch_pbar = trange(num_epoch, desc=\"Epoch\")\n",
    "for epoch in epoch_pbar:\n",
    "    # TODO: Training loop - iterate over train dataloader and update model weights\n",
    "    model.train()\n",
    "    epoch_train_losses = []\n",
    "    epoch_train_accs = []\n",
    "    for batch in train_data_loader:\n",
    "        ids = batch[\"ids\"].to(device)\n",
    "        labels = batch[\"labels\"].to(device)\n",
    "        pred = model(ids).to(device)\n",
    "        loss = criterion(pred, labels).to(device)\n",
    "        optimizer.zero_grad()\n",
    "        loss.backward()\n",
    "        optimizer.step()\n",
    "        epoch_train_losses.append(loss.item())\n",
    "        epoch_train_accs.append((pred.argmax(dim=1) == labels).float().mean().item())\n",
    "\n",
    "    # TODO: Evaluation loop - calculate accuracy and save model weights\n",
    "    model.eval()\n",
    "    epoch_eval_losses = []\n",
    "    epoch_eval_accs = []\n",
    "    with torch.no_grad():\n",
    "        for batch in dev_data_loader:\n",
    "            ids = batch[\"ids\"].to(device)\n",
    "            labels = batch[\"labels\"].to(device)\n",
    "            pred = model(ids).to(device)\n",
    "            loss = criterion(pred, labels).to(device)\n",
    "            epoch_eval_losses.append(loss.item())\n",
    "            epoch_eval_accs.append((pred.argmax(dim=1) == labels).float().mean().item())\n",
    "\n",
    "    train_losses.extend(epoch_train_losses)\n",
    "    train_accs.extend(epoch_train_accs)\n",
    "    valid_losses.extend(epoch_eval_losses)\n",
    "    valid_accs.extend(epoch_eval_accs)\n",
    "\n",
    "    epoch_train_loss = np.mean(epoch_train_losses)\n",
    "    epoch_train_acc = np.mean(epoch_train_accs)\n",
    "    epoch_valid_loss = np.mean(epoch_eval_losses)\n",
    "    epoch_valid_acc = np.mean(epoch_eval_accs)\n",
    "\n",
    "    print(epoch_train_acc)\n",
    "    print(epoch_valid_acc)\n",
    "\n",
    "    if epoch_valid_loss < best_valid_loss:\n",
    "        best_valid_loss = epoch_valid_loss\n",
    "        torch.save(model.state_dict(), ckpt_dir / 'slot_model.pt')"
   ]
  },
  {
   "cell_type": "markdown",
   "id": "8530c152",
   "metadata": {},
   "source": [
    "# Predict model"
   ]
  },
  {
   "cell_type": "code",
   "execution_count": 5,
   "id": "ca833d8a",
   "metadata": {},
   "outputs": [],
   "source": [
    "embeddings = torch.load(cache_dir / \"embeddings.pt\")\n",
    "cache_dir_dir = Path(\"./cache/slot/\")\n",
    "test_file = Path(\"data/slot/test.json\")\n",
    "with open(cache_dir / \"vocab.pkl\", \"rb\") as f:\n",
    "    vocab: Vocab = pickle.load(f)\n",
    "\n",
    "intent_idx_path = cache_dir / \"tag2idx.json\"\n",
    "intent2idx: Dict[str, int] = json.loads(intent_idx_path.read_text())\n",
    "\n",
    "data = json.loads(test_file.read_text())\n",
    "\n",
    "data_eval = [\n",
    "    {\n",
    "        \"token\": token,\n",
    "        \"id\": item[\"id\"]   \n",
    "    }\n",
    "    for item in data\n",
    "    for token in item[\"tokens\"]\n",
    "]\n",
    "\n",
    "dataset = SeqTaggingClsDataset(data_eval, vocab, intent2idx, max_len)\n",
    "\n",
    "# TODO: crecate DataLoader for test dataset\n",
    "test_data_loader = DataLoader(\n",
    "    dataset,\n",
    "    batch_size=batch_size,\n",
    "    shuffle=False,\n",
    "    collate_fn=dataset.collate_fn,\n",
    ")"
   ]
  },
  {
   "cell_type": "code",
   "execution_count": 13,
   "id": "8c765a5b",
   "metadata": {
    "scrolled": false
   },
   "outputs": [],
   "source": [
    "test_model = SeqTagger(\n",
    "    embeddings,\n",
    "    hidden_size,\n",
    "    num_layers,\n",
    "    dropout,\n",
    "    bidirectional,\n",
    "    len(tag2idx),\n",
    ")\n",
    "\n",
    "test_model.load_state_dict(torch.load(\"./ckpt/slot/slot_model.pt\"))\n",
    "test_model.to(device)\n",
    "test_model.eval()\n",
    "\n",
    "result_dict = {}\n",
    "result_index_list = list()\n",
    "result_ids_list = list()\n",
    "\n",
    "for batch in test_data_loader:\n",
    "    ids = batch[\"ids\"].to(device)\n",
    "    pred = test_model(ids).to(device)\n",
    "    \n",
    "#     print(\"-\" * 59)\n",
    "#     print(pred.argmax(dim=1))\n",
    "    \n",
    "#     print(\"-\" * 59)\n",
    "#     print(pred.argmax(dim=1).shape)\n",
    "    \n",
    "#     print(\"-\" * 59)\n",
    "#     print(batch[\"index\"])\n",
    "    \n",
    "#     print(\"-\" * 59)\n",
    "#     print(len(batch[\"index\"]))\n",
    "          \n",
    "#     print(\"-\" * 59)\n",
    "\n",
    "    result_ids_list.extend(\n",
    "        pred.argmax(dim=1).tolist()\n",
    "    )\n",
    "    \n",
    "    result_index_list.extend(batch[\"index\"])"
   ]
  },
  {
   "cell_type": "code",
   "execution_count": 14,
   "id": "3d053963",
   "metadata": {},
   "outputs": [
    {
     "data": {
      "text/plain": [
       "28571"
      ]
     },
     "metadata": {},
     "output_type": "display_data"
    },
    {
     "data": {
      "text/plain": [
       "28571"
      ]
     },
     "metadata": {},
     "output_type": "display_data"
    }
   ],
   "source": [
    "display(len(result_ids_list))\n",
    "display(len(result_index_list))"
   ]
  },
  {
   "cell_type": "code",
   "execution_count": 15,
   "id": "54436b94",
   "metadata": {},
   "outputs": [],
   "source": [
    "for index, id in zip(result_index_list, result_ids_list):\n",
    "    if index not in result_dict:\n",
    "        result_dict[index] = []\n",
    "    result_dict[index].append(\n",
    "        dataset.idx2label(id)\n",
    "    )"
   ]
  },
  {
   "cell_type": "code",
   "execution_count": 24,
   "id": "5504e97c",
   "metadata": {},
   "outputs": [],
   "source": [
    "csv_dict = {\n",
    "    \"id\": [],\n",
    "    \"tags\": []\n",
    "}\n",
    "for k, v in result_dict.items():\n",
    "    csv_dict[\"id\"].append(k)\n",
    "    csv_dict[\"tags\"].append(\n",
    "        \" \".join(v)\n",
    "    )\n",
    "\n",
    "csv_result = pd.DataFrame(csv_dict)\n",
    "csv_result.to_csv(\"slot_res.csv\", index=False)"
   ]
  },
  {
   "cell_type": "code",
   "execution_count": 26,
   "id": "df13a4f3",
   "metadata": {},
   "outputs": [
    {
     "data": {
      "text/html": [
       "<div>\n",
       "<style scoped>\n",
       "    .dataframe tbody tr th:only-of-type {\n",
       "        vertical-align: middle;\n",
       "    }\n",
       "\n",
       "    .dataframe tbody tr th {\n",
       "        vertical-align: top;\n",
       "    }\n",
       "\n",
       "    .dataframe thead th {\n",
       "        text-align: right;\n",
       "    }\n",
       "</style>\n",
       "<table border=\"1\" class=\"dataframe\">\n",
       "  <thead>\n",
       "    <tr style=\"text-align: right;\">\n",
       "      <th></th>\n",
       "      <th>id</th>\n",
       "      <th>tags</th>\n",
       "    </tr>\n",
       "  </thead>\n",
       "  <tbody>\n",
       "    <tr>\n",
       "      <th>0</th>\n",
       "      <td>test-0</td>\n",
       "      <td>O O O O B-people O O B-time</td>\n",
       "    </tr>\n",
       "    <tr>\n",
       "      <th>1</th>\n",
       "      <td>test-1</td>\n",
       "      <td>O O O O O O O B-people I-date O B-time O</td>\n",
       "    </tr>\n",
       "    <tr>\n",
       "      <th>2</th>\n",
       "      <td>test-2</td>\n",
       "      <td>O O O O O B-people</td>\n",
       "    </tr>\n",
       "    <tr>\n",
       "      <th>3</th>\n",
       "      <td>test-3</td>\n",
       "      <td>O O O O O</td>\n",
       "    </tr>\n",
       "    <tr>\n",
       "      <th>4</th>\n",
       "      <td>test-4</td>\n",
       "      <td>O O O O</td>\n",
       "    </tr>\n",
       "  </tbody>\n",
       "</table>\n",
       "</div>"
      ],
      "text/plain": [
       "       id                                      tags\n",
       "0  test-0               O O O O B-people O O B-time\n",
       "1  test-1  O O O O O O O B-people I-date O B-time O\n",
       "2  test-2                        O O O O O B-people\n",
       "3  test-3                                 O O O O O\n",
       "4  test-4                                   O O O O"
      ]
     },
     "execution_count": 26,
     "metadata": {},
     "output_type": "execute_result"
    }
   ],
   "source": [
    "csv_result.head()"
   ]
  },
  {
   "cell_type": "code",
   "execution_count": 27,
   "id": "f7590986",
   "metadata": {},
   "outputs": [
    {
     "data": {
      "text/plain": [
       "id                                   test-60\n",
       "tags    O O O I-people I-people O O I-people\n",
       "Name: 60, dtype: object"
      ]
     },
     "execution_count": 27,
     "metadata": {},
     "output_type": "execute_result"
    }
   ],
   "source": [
    "csv_result.iloc[60, :]"
   ]
  },
  {
   "cell_type": "code",
   "execution_count": null,
   "id": "96712d65",
   "metadata": {},
   "outputs": [],
   "source": []
  }
 ],
 "metadata": {
  "kernelspec": {
   "display_name": "Python 3 (ipykernel)",
   "language": "python",
   "name": "python3"
  },
  "language_info": {
   "codemirror_mode": {
    "name": "ipython",
    "version": 3
   },
   "file_extension": ".py",
   "mimetype": "text/x-python",
   "name": "python",
   "nbconvert_exporter": "python",
   "pygments_lexer": "ipython3",
   "version": "3.9.13"
  }
 },
 "nbformat": 4,
 "nbformat_minor": 5
}
